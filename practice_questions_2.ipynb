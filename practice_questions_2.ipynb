{
 "cells": [
  {
   "cell_type": "markdown",
   "metadata": {},
   "source": [
    "**TASK 1 - PAINTING THE RIBBON**"
   ]
  },
  {
   "cell_type": "markdown",
   "metadata": {},
   "source": [
    "https://codeforces.com/problemset/problem/1954/A"
   ]
  },
  {
   "cell_type": "code",
   "execution_count": null,
   "metadata": {},
   "outputs": [],
   "source": [
    "def can_distribute_items(total_items, items_per_box, remaining_items_threshold):\n",
    "    if (total_items - (total_items // items_per_box + (total_items % items_per_box != 0)) <= remaining_items_threshold):\n",
    "        return \"NO\"\n",
    "    else:\n",
    "        return \"YES\"\n",
    "    \n",
    "def solve():\n",
    "    test_cases = int(input()) \n",
    "    for _ in range(test_cases):\n",
    "        total_items, items_per_box, remaining_items_threshold = map(int, input().split())\n",
    "        result = can_distribute_items(total_items, items_per_box, remaining_items_threshold)\n",
    "        print(result)\n",
    "\n",
    "solve()\n",
    "\n"
   ]
  },
  {
   "cell_type": "markdown",
   "metadata": {},
   "source": [
    "*sample input*"
   ]
  },
  {
   "cell_type": "code",
   "execution_count": 2,
   "metadata": {},
   "outputs": [
    {
     "name": "stdout",
     "output_type": "stream",
     "text": [
      "NO\n",
      "NO\n",
      "YES\n",
      "NO\n",
      "YES\n"
     ]
    }
   ],
   "source": [
    "def solve():\n",
    "    inputs = [\n",
    "        (1, 1, 1),\n",
    "        (5, 1, 1),\n",
    "        (5, 2, 1),\n",
    "        (5, 2, 2),\n",
    "        (5, 5, 3)\n",
    "    ]\n",
    "    for total_items, items_per_box, remaining_items_threshold in inputs:\n",
    "        if (total_items - (total_items // items_per_box + (total_items % items_per_box != 0)) <= remaining_items_threshold):\n",
    "            result = \"NO\"\n",
    "        else:\n",
    "            result = \"YES\"\n",
    "        print(result)\n",
    "\n",
    "solve()\n"
   ]
  },
  {
   "cell_type": "markdown",
   "metadata": {},
   "source": [
    "**TASK 2 - LONG MUTLIPLICATION**"
   ]
  },
  {
   "cell_type": "markdown",
   "metadata": {},
   "source": [
    "https://codeforces.com/problemset/problem/1954/C"
   ]
  },
  {
   "cell_type": "code",
   "execution_count": null,
   "metadata": {},
   "outputs": [],
   "source": [
    "def compare_strings():\n",
    "    first_string, second_string = input().strip(), input().strip()\n",
    "    comparison_flag = 0\n",
    "    result_first, result_second = \"\", \"\"\n",
    "    for index in range(len(first_string)):\n",
    "        if comparison_flag == 0:\n",
    "            if first_string[index] == second_string[index]:\n",
    "                result_first += first_string[index]\n",
    "                result_second += second_string[index]\n",
    "            elif first_string[index] > second_string[index]:\n",
    "                comparison_flag = 1\n",
    "                result_first += first_string[index]\n",
    "                result_second += second_string[index]\n",
    "            else:\n",
    "                comparison_flag = 1\n",
    "                result_first += second_string[index]\n",
    "                result_second += first_string[index]\n",
    "        else:\n",
    "            if first_string[index] > second_string[index]:\n",
    "                result_second += first_string[index]\n",
    "                result_first += second_string[index]\n",
    "            else:\n",
    "                result_second += second_string[index]\n",
    "                result_first += first_string[index]\n",
    "    print(result_first)\n",
    "    print(result_second)\n",
    "\n",
    "test_cases = int(input())\n",
    "for _ in range(test_cases):\n",
    "    compare_strings()\n",
    "\n"
   ]
  },
  {
   "cell_type": "markdown",
   "metadata": {},
   "source": [
    "*sample input*"
   ]
  },
  {
   "cell_type": "code",
   "execution_count": 3,
   "metadata": {},
   "outputs": [
    {
     "name": "stdout",
     "output_type": "stream",
     "text": [
      "71\n",
      "33\n",
      "5\n",
      "2\n",
      "3912\n",
      "3586\n"
     ]
    }
   ],
   "source": [
    "def compare_strings():\n",
    "    test_cases = 3\n",
    "    inputs = [\n",
    "        (\"73\", \"31\"),\n",
    "        (\"2\", \"5\"),\n",
    "        (\"3516\", \"3982\")\n",
    "    ]\n",
    "    for i in range(test_cases):\n",
    "        first_string, second_string = inputs[i]\n",
    "        comparison_flag = 0\n",
    "        result_first, result_second = \"\", \"\"\n",
    "        for index in range(len(first_string)):\n",
    "            if comparison_flag == 0:\n",
    "                if first_string[index] == second_string[index]:\n",
    "                    result_first += first_string[index]\n",
    "                    result_second += second_string[index]\n",
    "                elif first_string[index] > second_string[index]:\n",
    "                    comparison_flag = 1\n",
    "                    result_first += first_string[index]\n",
    "                    result_second += second_string[index]\n",
    "                else:\n",
    "                    comparison_flag = 1\n",
    "                    result_first += second_string[index]\n",
    "                    result_second += first_string[index]\n",
    "            else:\n",
    "                if first_string[index] > second_string[index]:\n",
    "                    result_second += first_string[index]\n",
    "                    result_first += second_string[index]\n",
    "                else:\n",
    "                    result_second += second_string[index]\n",
    "                    result_first += first_string[index]\n",
    "        print(result_first)\n",
    "        print(result_second)\n",
    "\n",
    "compare_strings()\n"
   ]
  },
  {
   "cell_type": "markdown",
   "metadata": {},
   "source": [
    "**TASK 3 - MOVIE FESTIVAL**"
   ]
  },
  {
   "cell_type": "markdown",
   "metadata": {},
   "source": [
    "https://cses.fi/problemset/task/1629"
   ]
  },
  {
   "cell_type": "code",
   "execution_count": null,
   "metadata": {},
   "outputs": [],
   "source": [
    "def maximum_movies(num_movies, movie_times):\n",
    "    movie_times.sort(key=lambda x: x[1])\n",
    "    \n",
    "    max_movies = 0\n",
    "    last_movie_end_time = 0\n",
    "    \n",
    "    for movie_time in movie_times:\n",
    "        movie_start, movie_end = movie_time\n",
    "        \n",
    "        if movie_start >= last_movie_end_time:\n",
    "            max_movies += 1\n",
    "            last_movie_end_time = movie_end\n",
    "    \n",
    "    return max_movies\n",
    "\n",
    "def main():\n",
    "    num_movies = int(input().strip()) \n",
    "    movie_times = [list(map(int, input().strip().split())) for _ in range(num_movies)] \n",
    "    max_movies_to_watch = maximum_movies(num_movies, movie_times)\n",
    "    print(max_movies_to_watch)\n",
    "\n",
    "if __name__ == \"__main__\":\n",
    "    main()\n"
   ]
  },
  {
   "cell_type": "markdown",
   "metadata": {},
   "source": [
    "*sample input*"
   ]
  },
  {
   "cell_type": "code",
   "execution_count": 4,
   "metadata": {},
   "outputs": [
    {
     "name": "stdout",
     "output_type": "stream",
     "text": [
      "2\n"
     ]
    }
   ],
   "source": [
    "def maximum_movies(num_movies, movie_times):\n",
    "    movie_times.sort(key=lambda x: x[1])\n",
    "    \n",
    "    max_movies = 0\n",
    "    last_movie_end_time = 0\n",
    "    \n",
    "    for movie_time in movie_times:\n",
    "        movie_start, movie_end = movie_time\n",
    "        \n",
    "        if movie_start >= last_movie_end_time:\n",
    "            max_movies += 1\n",
    "            last_movie_end_time = movie_end\n",
    "    \n",
    "    return max_movies\n",
    "\n",
    "def main():\n",
    "    num_movies = 3\n",
    "    movie_times = [(3, 5), (4, 9), (5, 8)]\n",
    "    max_movies_to_watch = maximum_movies(num_movies, movie_times)\n",
    "    print(max_movies_to_watch)\n",
    "\n",
    "if __name__ == \"__main__\":\n",
    "    main()\n"
   ]
  },
  {
   "cell_type": "markdown",
   "metadata": {},
   "source": [
    "**TASK 4 - FERRIS WHEEL**"
   ]
  },
  {
   "cell_type": "markdown",
   "metadata": {},
   "source": [
    "https://cses.fi/problemset/task/1090"
   ]
  },
  {
   "cell_type": "code",
   "execution_count": null,
   "metadata": {},
   "outputs": [],
   "source": [
    "def min_gondolas(num_children, max_weight, children_weights):\n",
    "    children_weights.sort()\n",
    "\n",
    "   \n",
    "    left_child = 0\n",
    "    right_child = num_children - 1\n",
    "    num_gondolas = 0\n",
    "\n",
    "    while left_child <= right_child:\n",
    "        if children_weights[left_child] + children_weights[right_child] <= max_weight:\n",
    "            left_child += 1  \n",
    "        right_child -= 1  \n",
    "        num_gondolas += 1\n",
    "\n",
    "    return num_gondolas\n",
    "\n",
    "def main():\n",
    "    num_children, max_weight = map(int, input().split())  \n",
    "    children_weights = list(map(int, input().split()))  \n",
    "    min_gondola_count = min_gondolas(num_children, max_weight, children_weights)\n",
    "    print(min_gondola_count)\n",
    "\n",
    "if __name__ == \"__main__\":\n",
    "    main()\n"
   ]
  },
  {
   "cell_type": "markdown",
   "metadata": {},
   "source": [
    "*sample input*"
   ]
  },
  {
   "cell_type": "code",
   "execution_count": 5,
   "metadata": {},
   "outputs": [
    {
     "name": "stdout",
     "output_type": "stream",
     "text": [
      "3\n"
     ]
    }
   ],
   "source": [
    "def min_gondolas(num_children, max_weight, children_weights):\n",
    "    children_weights.sort()\n",
    "\n",
    "   \n",
    "    left_child = 0\n",
    "    right_child = num_children - 1\n",
    "    num_gondolas = 0\n",
    "\n",
    "    while left_child <= right_child:\n",
    "        if children_weights[left_child] + children_weights[right_child] <= max_weight:\n",
    "            left_child += 1  \n",
    "        right_child -= 1  \n",
    "        num_gondolas += 1\n",
    "\n",
    "    return num_gondolas\n",
    "\n",
    "def main():\n",
    "    num_children, max_weight = 4, 10\n",
    "    children_weights = [7, 2, 3, 9]\n",
    "    min_gondola_count = min_gondolas(num_children, max_weight, children_weights)\n",
    "    print(min_gondola_count)\n",
    "\n",
    "if __name__ == \"__main__\":\n",
    "    main()\n"
   ]
  },
  {
   "cell_type": "markdown",
   "metadata": {},
   "source": [
    "**TASK 5 - APARTMENTS**"
   ]
  },
  {
   "cell_type": "markdown",
   "metadata": {},
   "source": [
    "https://cses.fi/problemset/task/1084"
   ]
  },
  {
   "cell_type": "code",
   "execution_count": null,
   "metadata": {},
   "outputs": [],
   "source": [
    "def distribute_apartments(num_applicants, num_apartments, max_difference, applicant_sizes, apartment_sizes):\n",
    "    \n",
    "    applicant_sizes.sort()\n",
    "    apartment_sizes.sort()\n",
    "    \n",
    "  \n",
    "    applicants_assigned = 0\n",
    "    applicant_index = 0\n",
    "    apartment_index = 0\n",
    "    \n",
    "    \n",
    "    while applicant_index < num_applicants and apartment_index < num_apartments:\n",
    "        if abs(applicant_sizes[applicant_index] - apartment_sizes[apartment_index]) <= max_difference:\n",
    "            applicants_assigned += 1\n",
    "            applicant_index += 1\n",
    "            apartment_index += 1\n",
    "        elif applicant_sizes[applicant_index] < apartment_sizes[apartment_index]:\n",
    "            applicant_index += 1\n",
    "        else:\n",
    "            apartment_index += 1\n",
    "    \n",
    "    return applicants_assigned\n",
    "\n",
    "def main():\n",
    "    num_applicants, num_apartments, max_difference = map(int, input().split())  \n",
    "    \n",
    "    applicant_sizes = list(map(int, input().split()))  \n",
    "    \n",
    "    apartment_sizes = list(map(int, input().split()))  \n",
    "    \n",
    "    result = distribute_apartments(num_applicants, num_apartments, max_difference, applicant_sizes, apartment_sizes)\n",
    "    print(result)\n",
    "\n",
    "if __name__ == \"__main__\":\n",
    "    main()\n"
   ]
  },
  {
   "cell_type": "markdown",
   "metadata": {},
   "source": [
    "*sample input*"
   ]
  },
  {
   "cell_type": "code",
   "execution_count": 6,
   "metadata": {},
   "outputs": [
    {
     "name": "stdout",
     "output_type": "stream",
     "text": [
      "2\n"
     ]
    }
   ],
   "source": [
    "def distribute_apartments(num_applicants, num_apartments, max_difference, applicant_sizes, apartment_sizes):\n",
    "    \n",
    "    applicant_sizes.sort()\n",
    "    apartment_sizes.sort()\n",
    "    \n",
    "  \n",
    "    applicants_assigned = 0\n",
    "    applicant_index = 0\n",
    "    apartment_index = 0\n",
    "    \n",
    "    \n",
    "    while applicant_index < num_applicants and apartment_index < num_apartments:\n",
    "        if abs(applicant_sizes[applicant_index] - apartment_sizes[apartment_index]) <= max_difference:\n",
    "            applicants_assigned += 1\n",
    "            applicant_index += 1\n",
    "            apartment_index += 1\n",
    "        elif applicant_sizes[applicant_index] < apartment_sizes[apartment_index]:\n",
    "            applicant_index += 1\n",
    "        else:\n",
    "            apartment_index += 1\n",
    "    \n",
    "    return applicants_assigned\n",
    "\n",
    "def main():\n",
    "    num_applicants, num_apartments, max_difference = 4, 3, 5\n",
    "    \n",
    "    applicant_sizes = [60, 45, 80, 60]\n",
    "    \n",
    "    apartment_sizes = [30, 60, 75]\n",
    "    \n",
    "    result = distribute_apartments(num_applicants, num_apartments, max_difference, applicant_sizes, apartment_sizes)\n",
    "    print(result)\n",
    "\n",
    "if __name__ == \"__main__\":\n",
    "    main()\n"
   ]
  }
 ],
 "metadata": {
  "kernelspec": {
   "display_name": "Python 3",
   "language": "python",
   "name": "python3"
  },
  "language_info": {
   "codemirror_mode": {
    "name": "ipython",
    "version": 3
   },
   "file_extension": ".py",
   "mimetype": "text/x-python",
   "name": "python",
   "nbconvert_exporter": "python",
   "pygments_lexer": "ipython3",
   "version": "3.11.5"
  }
 },
 "nbformat": 4,
 "nbformat_minor": 2
}
