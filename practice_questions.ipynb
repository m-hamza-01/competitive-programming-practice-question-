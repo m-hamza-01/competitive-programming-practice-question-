{
 "cells": [
  {
   "cell_type": "markdown",
   "metadata": {},
   "source": [
    "A-Frog-1\n"
   ]
  },
  {
   "cell_type": "code",
   "execution_count": 8,
   "metadata": {},
   "outputs": [
    {
     "name": "stdout",
     "output_type": "stream",
     "text": [
      "40\n"
     ]
    }
   ],
   "source": [
    "def min_cost_to_reach(N, heights):\n",
    "    dp = [0] * N\n",
    "    dp[0] = 0\n",
    "    \n",
    "    for i in range(1, N):\n",
    "        cost_1 = dp[i - 1] + abs(heights[i] - heights[i - 1])\n",
    "        if i > 1:\n",
    "            cost_2 = dp[i - 2] + abs(heights[i] - heights[i - 2])\n",
    "        else:\n",
    "            cost_2 = float('inf')\n",
    "        \n",
    "        dp[i] = min(cost_1, cost_2)\n",
    "    \n",
    "    return dp[N - 1]\n",
    "\n",
    "# Input\n",
    "N = int(input())\n",
    "heights = list(map(int, input().split()))\n",
    "\n",
    "# Output\n",
    "print(min_cost_to_reach(N, heights))\n"
   ]
  },
  {
   "cell_type": "markdown",
   "metadata": {},
   "source": [
    "B-Frog2\n"
   ]
  },
  {
   "cell_type": "code",
   "execution_count": 10,
   "metadata": {},
   "outputs": [
    {
     "name": "stdout",
     "output_type": "stream",
     "text": [
      "30\n"
     ]
    }
   ],
   "source": [
    "def min_cost_to_reach(N, K, heights):\n",
    "    dp = [0] * N\n",
    "    \n",
    "    for i in range(1, N):\n",
    "        min_cost = float('inf')\n",
    "        for j in range(1, min(K, i) + 1):\n",
    "            cost = dp[i - j] + abs(heights[i] - heights[i - j])\n",
    "            min_cost = min(min_cost, cost)\n",
    "        dp[i] = min_cost\n",
    "    \n",
    "    return dp[N - 1]\n",
    "\n",
    "# Input\n",
    "N, K = map(int, input().split())\n",
    "heights = list(map(int, input().split()))\n",
    "\n",
    "# Output\n",
    "print(min_cost_to_reach(N, K, heights))\n"
   ]
  },
  {
   "cell_type": "markdown",
   "metadata": {},
   "source": [
    "C-vacation \n"
   ]
  },
  {
   "cell_type": "code",
   "execution_count": 12,
   "metadata": {},
   "outputs": [
    {
     "name": "stdout",
     "output_type": "stream",
     "text": [
      "210\n"
     ]
    }
   ],
   "source": [
    "def max_happiness(N, activities):\n",
    "    dp = [[0] * 3 for _ in range(N)]\n",
    "    dp[0] = activities[0]\n",
    "    \n",
    "    for i in range(1, N):\n",
    "        for j in range(3):\n",
    "            max_prev = max(dp[i - 1][(j + 1) % 3], dp[i - 1][(j + 2) % 3])\n",
    "            dp[i][j] = activities[i][j] + max_prev\n",
    "    \n",
    "    return max(dp[N - 1])\n",
    "\n",
    "# Input\n",
    "N = int(input())\n",
    "activities = [list(map(int, input().split())) for _ in range(N)]\n",
    "\n",
    "# Output\n",
    "print(max_happiness(N, activities))\n"
   ]
  },
  {
   "cell_type": "markdown",
   "metadata": {},
   "source": [
    "D-Knapsack 1"
   ]
  },
  {
   "cell_type": "code",
   "execution_count": 14,
   "metadata": {},
   "outputs": [
    {
     "name": "stdout",
     "output_type": "stream",
     "text": [
      "17\n"
     ]
    }
   ],
   "source": [
    "def max_value(N, W, items):\n",
    "    dp = [0] * (W + 1)\n",
    "    \n",
    "    for weight, value in items:\n",
    "        for w in range(W, weight - 1, -1):\n",
    "            dp[w] = max(dp[w], dp[w - weight] + value)\n",
    "    \n",
    "    return dp[W]\n",
    "\n",
    "# Input\n",
    "N, W = map(int, input().split())\n",
    "items = [tuple(map(int, input().split())) for _ in range(N)]\n",
    "\n",
    "# Output\n",
    "print(max_value(N, W, items))"
   ]
  },
  {
   "cell_type": "markdown",
   "metadata": {},
   "source": [
    "E-Knapsack 2\n"
   ]
  },
  {
   "cell_type": "code",
   "execution_count": null,
   "metadata": {},
   "outputs": [],
   "source": [
    "def knapsack_max_value(N, W, weights, values):\n",
    "    INF = float('inf')\n",
    "    dp = [INF] * (sum(values) + 1)\n",
    "    dp[0] = 0\n",
    "\n",
    "    for i in range(N):\n",
    "        for v in range(sum(values), -1, -1):\n",
    "            if v >= values[i]:\n",
    "                dp[v] = min(dp[v], dp[v - values[i]] + weights[i])\n",
    "\n",
    "    max_value = 0\n",
    "    for v in range(sum(values) + 1):\n",
    "        if dp[v] <= W:\n",
    "            max_value = max(max_value, v)\n",
    "\n",
    "    return max_value\n",
    "\n",
    "# Input Parsing\n",
    "N, W = map(int, input().split())\n",
    "weights, values = [], []\n",
    "for _ in range(N):\n",
    "    w, v = map(int, input().split())\n",
    "    weights.append(w)\n",
    "    values.append(v)\n",
    "\n",
    "# Function Call\n",
    "result = knapsack_max_value(N, W, weights, values)\n",
    "\n",
    "# Output\n",
    "print(result)\n"
   ]
  },
  {
   "cell_type": "markdown",
   "metadata": {},
   "source": [
    "G-Longest Path"
   ]
  },
  {
   "cell_type": "code",
   "execution_count": null,
   "metadata": {},
   "outputs": [],
   "source": [
    "from collections import defaultdict, deque\n",
    "\n",
    "def main():\n",
    "    N, M = map(int, input().split())\n",
    "    \n",
    "    adj = defaultdict(list)\n",
    "    in_degree = [0] * (N + 1)\n",
    "    \n",
    "    for _ in range(M):\n",
    "        x, y = map(int, input().split())\n",
    "        adj[x].append(y)\n",
    "        in_degree[y] += 1\n",
    "    \n",
    "    topo_order = []\n",
    "    queue = deque()\n",
    "    \n",
    "    for i in range(1, N + 1):\n",
    "        if in_degree[i] == 0:\n",
    "            queue.append(i)\n",
    "    \n",
    "    while queue:\n",
    "        node = queue.popleft()\n",
    "        topo_order.append(node)\n",
    "        for neighbor in adj[node]:\n",
    "            in_degree[neighbor] -= 1\n",
    "            if in_degree[neighbor] == 0:\n",
    "                queue.append(neighbor)\n",
    "    \n",
    "    dp = [0] * (N + 1)\n",
    "    \n",
    "    for u in topo_order:\n",
    "        for v in adj[u]:\n",
    "            dp[v] = max(dp[v], dp[u] + 1)\n",
    "    \n",
    "    print(max(dp))\n",
    "\n",
    "if __name__ == \"__main__\":\n",
    "    main()\n"
   ]
  }
 ],
 "metadata": {
  "kernelspec": {
   "display_name": "Python 3",
   "language": "python",
   "name": "python3"
  },
  "language_info": {
   "codemirror_mode": {
    "name": "ipython",
    "version": 3
   },
   "file_extension": ".py",
   "mimetype": "text/x-python",
   "name": "python",
   "nbconvert_exporter": "python",
   "pygments_lexer": "ipython3",
   "version": "3.11.5"
  }
 },
 "nbformat": 4,
 "nbformat_minor": 2
}
